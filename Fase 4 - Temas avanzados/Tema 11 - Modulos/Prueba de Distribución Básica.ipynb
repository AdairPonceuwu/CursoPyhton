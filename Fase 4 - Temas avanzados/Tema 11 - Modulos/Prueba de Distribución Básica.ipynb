{
 "cells": [
  {
   "cell_type": "code",
   "execution_count": 1,
   "id": "681d9d6e",
   "metadata": {},
   "outputs": [
    {
     "ename": "ModuleNotFoundError",
     "evalue": "No module named 'Mensajes'",
     "output_type": "error",
     "traceback": [
      "\u001b[1;31m---------------------------------------------------------------------------\u001b[0m",
      "\u001b[1;31mModuleNotFoundError\u001b[0m                       Traceback (most recent call last)",
      "Cell \u001b[1;32mIn[1], line 1\u001b[0m\n\u001b[1;32m----> 1\u001b[0m \u001b[38;5;28;01mfrom\u001b[39;00m \u001b[38;5;21;01mMensajes\u001b[39;00m\u001b[38;5;21;01m.\u001b[39;00m\u001b[38;5;21;01mHola\u001b[39;00m\u001b[38;5;21;01m.\u001b[39;00m\u001b[38;5;21;01msaludos\u001b[39;00m \u001b[38;5;28;01mimport\u001b[39;00m\u001b[38;5;241m*\u001b[39m\n\u001b[0;32m      2\u001b[0m saludar()\n\u001b[0;32m      3\u001b[0m prueba()\n",
      "\u001b[1;31mModuleNotFoundError\u001b[0m: No module named 'Mensajes'"
     ]
    }
   ],
   "source": [
    "from Mensajes.Hola.saludos import*\n",
    "saludar()\n",
    "prueba()"
   ]
  },
  {
   "cell_type": "code",
   "execution_count": 2,
   "id": "b73d65cf",
   "metadata": {},
   "outputs": [
    {
     "name": "stdout",
     "output_type": "stream",
     "text": [
      "Package              Version\n",
      "-------------------- -----------\n",
      "anyio                3.6.2\n",
      "argon2-cffi          21.3.0\n",
      "argon2-cffi-bindings 21.2.0\n",
      "asttokens            2.2.1\n",
      "attrs                22.1.0\n",
      "backcall             0.2.0\n",
      "beautifulsoup4       4.11.1\n",
      "bleach               5.0.1\n",
      "cffi                 1.15.1\n",
      "colorama             0.4.6\n",
      "debugpy              1.6.4\n",
      "decorator            5.1.1\n",
      "defusedxml           0.7.1\n",
      "entrypoints          0.4\n",
      "executing            1.2.0\n",
      "fastjsonschema       2.16.2\n",
      "idna                 3.4\n",
      "ipykernel            6.17.1\n",
      "ipython              8.7.0\n",
      "ipython-genutils     0.2.0\n",
      "jedi                 0.18.2\n",
      "Jinja2               3.1.2\n",
      "jsonschema           4.17.3\n",
      "jupyter_client       7.4.8\n",
      "jupyter_core         5.1.0\n",
      "jupyter-server       1.23.3\n",
      "jupyterlab-pygments  0.2.2\n",
      "MarkupSafe           2.1.1\n",
      "matplotlib-inline    0.1.6\n",
      "mistune              2.0.4\n",
      "nbclassic            0.4.8\n",
      "nbclient             0.7.2\n",
      "nbconvert            7.2.6\n",
      "nbformat             5.7.0\n",
      "nest-asyncio         1.5.6\n",
      "notebook             6.5.2\n",
      "notebook_shim        0.2.2\n",
      "packaging            21.3\n",
      "pandocfilters        1.5.0\n",
      "parso                0.8.3\n",
      "pickleshare          0.7.5\n",
      "pip                  22.3.1\n",
      "platformdirs         2.5.4\n",
      "prometheus-client    0.15.0\n",
      "prompt-toolkit       3.0.33\n",
      "psutil               5.9.4\n",
      "pure-eval            0.2.2\n",
      "pycparser            2.21\n",
      "Pygments             2.13.0\n",
      "pyparsing            3.0.9\n",
      "pyrsistent           0.19.2\n",
      "python-dateutil      2.8.2\n",
      "pywin32              305\n",
      "pywinpty             2.0.9\n",
      "pyzmq                24.0.1\n",
      "Send2Trash           1.8.0\n",
      "setuptools           63.2.0\n",
      "six                  1.16.0\n",
      "sniffio              1.3.0\n",
      "soupsieve            2.3.2.post1\n",
      "stack-data           0.6.2\n",
      "terminado            0.17.1\n",
      "tinycss2             1.2.1\n",
      "tornado              6.2\n",
      "traitlets            5.6.0\n",
      "wcwidth              0.2.5\n",
      "webencodings         0.5.1\n",
      "websocket-client     1.4.2\n"
     ]
    }
   ],
   "source": [
    "!pip list"
   ]
  },
  {
   "cell_type": "code",
   "execution_count": null,
   "id": "073ba341",
   "metadata": {},
   "outputs": [],
   "source": []
  }
 ],
 "metadata": {
  "kernelspec": {
   "display_name": "Python 3 (ipykernel)",
   "language": "python",
   "name": "python3"
  },
  "language_info": {
   "codemirror_mode": {
    "name": "ipython",
    "version": 3
   },
   "file_extension": ".py",
   "mimetype": "text/x-python",
   "name": "python",
   "nbconvert_exporter": "python",
   "pygments_lexer": "ipython3",
   "version": "3.10.8"
  }
 },
 "nbformat": 4,
 "nbformat_minor": 5
}
